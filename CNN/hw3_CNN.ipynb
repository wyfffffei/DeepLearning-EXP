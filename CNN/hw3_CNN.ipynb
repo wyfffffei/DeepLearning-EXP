{
  "nbformat": 4,
  "nbformat_minor": 0,
  "metadata": {
    "accelerator": "GPU",
    "colab": {
      "name": "hw3_CNN.ipynb",
      "provenance": [],
      "collapsed_sections": []
    },
    "kernelspec": {
      "display_name": "Python 3",
      "name": "python3"
    }
  },
  "cells": [
    {
      "cell_type": "markdown",
      "metadata": {
        "id": "D_a2USyd4giE"
      },
      "source": [
        "# **Homework 3 - Convolutional Neural Network**\n",
        "\n",
        "若有任何問題，歡迎來信至助教信箱 ntu-ml-2020spring-ta@googlegroups.com"
      ]
    },
    {
      "cell_type": "code",
      "metadata": {
        "id": "zhzdomRTOKoJ"
      },
      "source": [
        "!gdown --id '19CzXudqN58R3D-1G8KeFWk8UDQwlb8is' --output food-11.zip # 下載資料集\n",
        "!unzip food-11.zip # 解壓縮"
      ],
      "execution_count": null,
      "outputs": []
    },
    {
      "cell_type": "code",
      "metadata": {
        "id": "9sVrKci4PUFW"
      },
      "source": [
        "# Import需要的套件\n",
        "import os\n",
        "import numpy as np\n",
        "import cv2\n",
        "import torch\n",
        "import torch.nn as nn\n",
        "import torchvision.transforms as transforms\n",
        "import pandas as pd\n",
        "from torch.utils.data import DataLoader, Dataset\n",
        "import time"
      ],
      "execution_count": null,
      "outputs": []
    },
    {
      "cell_type": "markdown",
      "metadata": {
        "id": "F0i9ZCPrOVN_"
      },
      "source": [
        "#Read image\n",
        "利用 OpenCV (cv2) 讀入照片並存放在 numpy array 中"
      ]
    },
    {
      "cell_type": "code",
      "metadata": {
        "id": "Zf7QPifJQNUK"
      },
      "source": [
        "def readfile(path, label):\n",
        "    # label 是一個 boolean variable，代表需不需要回傳 y 值\n",
        "    image_dir = sorted(os.listdir(path))\n",
        "    x = np.zeros((len(image_dir), 128, 128, 3), dtype=np.uint8)\n",
        "    y = np.zeros((len(image_dir)), dtype=np.uint8)\n",
        "    for i, file in enumerate(image_dir):\n",
        "        img = cv2.imread(os.path.join(path, file))\n",
        "        x[i, :, :] = cv2.resize(img,(128, 128))\n",
        "        if label:\n",
        "          y[i] = int(file.split(\"_\")[0])\n",
        "    if label:\n",
        "      return x, y\n",
        "    else:\n",
        "      return x"
      ],
      "execution_count": null,
      "outputs": []
    },
    {
      "cell_type": "code",
      "metadata": {
        "colab": {
          "base_uri": "https://localhost:8080/"
        },
        "id": "5ebVIY5HQQH7",
        "outputId": "c503b552-615b-4d66-984d-d8a33e1a0e9f"
      },
      "source": [
        "# 分別將 training set、validation set、testing set 用 readfile 函式讀進來\n",
        "workspace_dir = './food-11'\n",
        "print(\"Reading data\")\n",
        "train_x, train_y = readfile(os.path.join(workspace_dir, \"training\"), True)\n",
        "print(\"Size of training data = {}\".format(len(train_x)))\n",
        "val_x, val_y = readfile(os.path.join(workspace_dir, \"validation\"), True)\n",
        "print(\"Size of validation data = {}\".format(len(val_x)))\n",
        "test_x = readfile(os.path.join(workspace_dir, \"testing\"), False)\n",
        "print(\"Size of Testing data = {}\".format(len(test_x)))"
      ],
      "execution_count": null,
      "outputs": [
        {
          "output_type": "stream",
          "text": [
            "Reading data\n",
            "Size of training data = 9866\n",
            "Size of validation data = 3430\n",
            "Size of Testing data = 3347\n"
          ],
          "name": "stdout"
        }
      ]
    },
    {
      "cell_type": "markdown",
      "metadata": {
        "id": "gq5KVMM3OHY6"
      },
      "source": [
        "# Dataset\n",
        "在 PyTorch 中，我們可以利用 torch.utils.data 的 Dataset 及 DataLoader 來\"包裝\" data，使後續的 training 及 testing 更為方便。\n",
        "\n",
        "Dataset 需要 overload 兩個函數：\\_\\_len\\_\\_ 及 \\_\\_getitem\\_\\_\n",
        "\n",
        "\\_\\_len\\_\\_ 必須要回傳 dataset 的大小，而 \\_\\_getitem\\_\\_ 則定義了當程式利用 [ ] 取值時，dataset 應該要怎麼回傳資料。\n",
        "\n",
        "實際上我們並不會直接使用到這兩個函數，但是使用 DataLoader 在 enumerate Dataset 時會使用到，沒有實做的話會在程式運行階段出現 error。\n"
      ]
    },
    {
      "cell_type": "code",
      "metadata": {
        "id": "gKd2abixQghI"
      },
      "source": [
        "# training 時做 data augmentation\n",
        "train_transform = transforms.Compose([\n",
        "    transforms.ToPILImage(),\n",
        "    transforms.RandomHorizontalFlip(), # 隨機將圖片水平翻轉\n",
        "    transforms.RandomRotation(15), # 隨機旋轉圖片\n",
        "    transforms.ToTensor(), # 將圖片轉成 Tensor，並把數值 normalize 到 [0,1] (data normalization)\n",
        "])\n",
        "# testing 時不需做 data augmentation\n",
        "test_transform = transforms.Compose([\n",
        "    transforms.ToPILImage(),                                    \n",
        "    transforms.ToTensor(),\n",
        "])\n",
        "class ImgDataset(Dataset):\n",
        "    def __init__(self, x, y=None, transform=None):\n",
        "        self.x = x\n",
        "        # label is required to be a LongTensor\n",
        "        self.y = y\n",
        "        if y is not None:\n",
        "            self.y = torch.LongTensor(y)\n",
        "        self.transform = transform\n",
        "    def __len__(self):\n",
        "        return len(self.x)\n",
        "    def __getitem__(self, index):\n",
        "        X = self.x[index]\n",
        "        if self.transform is not None:\n",
        "            X = self.transform(X)\n",
        "        if self.y is not None:\n",
        "            Y = self.y[index]\n",
        "            return X, Y\n",
        "        else:\n",
        "            return X"
      ],
      "execution_count": null,
      "outputs": []
    },
    {
      "cell_type": "code",
      "metadata": {
        "id": "qz6jeMnkQl0_"
      },
      "source": [
        "batch_size = 128\n",
        "train_set = ImgDataset(train_x, train_y, train_transform)\n",
        "val_set = ImgDataset(val_x, val_y, test_transform)\n",
        "train_loader = DataLoader(train_set, batch_size=batch_size, shuffle=True)\n",
        "val_loader = DataLoader(val_set, batch_size=batch_size, shuffle=False)"
      ],
      "execution_count": null,
      "outputs": []
    },
    {
      "cell_type": "markdown",
      "metadata": {
        "id": "j9YhZo7POPYG"
      },
      "source": [
        "# Model"
      ]
    },
    {
      "cell_type": "code",
      "metadata": {
        "id": "Y1c-GwrMQqMl"
      },
      "source": [
        "class Classifier(nn.Module):\n",
        "    def __init__(self):\n",
        "        super(Classifier, self).__init__()\n",
        "        # torch.nn.Conv2d(in_channels, out_channels, kernel_size, stride, padding)\n",
        "        # torch.nn.MaxPool2d(kernel_size, stride, padding)\n",
        "        # input 維度 [3, 128, 128]\n",
        "        self.cnn = nn.Sequential(\n",
        "            nn.Conv2d(3, 64, 3, 1, 1),  # [64, 128, 128]\n",
        "            nn.BatchNorm2d(64),\n",
        "            nn.ReLU(),\n",
        "            nn.MaxPool2d(2, 2, 0),      # [64, 64, 64]\n",
        "\n",
        "            nn.Conv2d(64, 128, 3, 1, 1), # [128, 64, 64]\n",
        "            nn.BatchNorm2d(128),\n",
        "            nn.ReLU(),\n",
        "            nn.MaxPool2d(2, 2, 0),      # [128, 32, 32]\n",
        "\n",
        "            nn.Conv2d(128, 256, 3, 1, 1), # [256, 32, 32]\n",
        "            nn.BatchNorm2d(256),\n",
        "            nn.ReLU(),\n",
        "            nn.MaxPool2d(2, 2, 0),      # [256, 16, 16]\n",
        "\n",
        "            nn.Conv2d(256, 512, 3, 1, 1), # [512, 16, 16]\n",
        "            nn.BatchNorm2d(512),\n",
        "            nn.ReLU(),\n",
        "            nn.MaxPool2d(2, 2, 0),       # [512, 8, 8]\n",
        "            \n",
        "            nn.Conv2d(512, 512, 3, 1, 1), # [512, 8, 8]\n",
        "            nn.BatchNorm2d(512),\n",
        "            nn.ReLU(),\n",
        "            nn.MaxPool2d(2, 2, 0),       # [512, 4, 4]\n",
        "        )\n",
        "        self.fc = nn.Sequential(\n",
        "            nn.Linear(512*4*4, 1024),\n",
        "            nn.ReLU(),\n",
        "            nn.Linear(1024, 512),\n",
        "            nn.ReLU(),\n",
        "            nn.Linear(512, 11)\n",
        "        )\n",
        "\n",
        "    def forward(self, x):\n",
        "        out = self.cnn(x)\n",
        "        out = out.view(out.size()[0], -1)\n",
        "        return self.fc(out)"
      ],
      "execution_count": null,
      "outputs": []
    },
    {
      "cell_type": "markdown",
      "metadata": {
        "id": "aEnGbriXORN3"
      },
      "source": [
        "# Training"
      ]
    },
    {
      "cell_type": "markdown",
      "metadata": {
        "id": "_5x-FH2Kr_jh"
      },
      "source": [
        "使用 training set 訓練，並使用 validation set 尋找好的參數"
      ]
    },
    {
      "cell_type": "code",
      "metadata": {
        "colab": {
          "base_uri": "https://localhost:8080/"
        },
        "id": "PHaFE-8oQtkC",
        "outputId": "199494e4-a3e9-46c8-9597-5744122be10a"
      },
      "source": [
        "model = Classifier().cuda()\n",
        "loss = nn.CrossEntropyLoss() # 因為是 classification task，所以 loss 使用 CrossEntropyLoss\n",
        "optimizer = torch.optim.Adam(model.parameters(), lr=0.001) # optimizer 使用 Adam\n",
        "num_epoch = 30\n",
        "\n",
        "for epoch in range(num_epoch):\n",
        "    epoch_start_time = time.time()\n",
        "    train_acc = 0.0\n",
        "    train_loss = 0.0\n",
        "    val_acc = 0.0\n",
        "    val_loss = 0.0\n",
        "\n",
        "    model.train() # 確保 model 是在 train model (開啟 Dropout 等...)\n",
        "    for i, data in enumerate(train_loader):\n",
        "        optimizer.zero_grad() # 用 optimizer 將 model 參數的 gradient 歸零\n",
        "        train_pred = model(data[0].cuda()) # 利用 model 得到預測的機率分佈 這邊實際上就是去呼叫 model 的 forward 函數\n",
        "        batch_loss = loss(train_pred, data[1].cuda()) # 計算 loss （注意 prediction 跟 label 必須同時在 CPU 或是 GPU 上）\n",
        "        batch_loss.backward() # 利用 back propagation 算出每個參數的 gradient\n",
        "        optimizer.step() # 以 optimizer 用 gradient 更新參數值\n",
        "\n",
        "        train_acc += np.sum(np.argmax(train_pred.cpu().data.numpy(), axis=1) == data[1].numpy())\n",
        "        train_loss += batch_loss.item()\n",
        "    \n",
        "    model.eval()\n",
        "    with torch.no_grad():\n",
        "        for i, data in enumerate(val_loader):\n",
        "            val_pred = model(data[0].cuda())\n",
        "            batch_loss = loss(val_pred, data[1].cuda())\n",
        "\n",
        "            val_acc += np.sum(np.argmax(val_pred.cpu().data.numpy(), axis=1) == data[1].numpy())\n",
        "            val_loss += batch_loss.item()\n",
        "\n",
        "        #將結果 print 出來\n",
        "        print('[%03d/%03d] %2.2f sec(s) Train Acc: %3.6f Loss: %3.6f | Val Acc: %3.6f loss: %3.6f' % \\\n",
        "            (epoch + 1, num_epoch, time.time()-epoch_start_time, \\\n",
        "             train_acc/train_set.__len__(), train_loss/train_set.__len__(), val_acc/val_set.__len__(), val_loss/val_set.__len__()))"
      ],
      "execution_count": null,
      "outputs": [
        {
          "output_type": "stream",
          "text": [
            "[001/030] 23.34 sec(s) Train Acc: 0.229272 Loss: 0.017946 | Val Acc: 0.291545 loss: 0.015443\n",
            "[002/030] 23.19 sec(s) Train Acc: 0.334381 Loss: 0.015025 | Val Acc: 0.360933 loss: 0.014351\n",
            "[003/030] 23.37 sec(s) Train Acc: 0.399453 Loss: 0.013628 | Val Acc: 0.393003 loss: 0.013698\n",
            "[004/030] 23.45 sec(s) Train Acc: 0.446888 Loss: 0.012522 | Val Acc: 0.387464 loss: 0.014384\n",
            "[005/030] 23.54 sec(s) Train Acc: 0.481958 Loss: 0.011774 | Val Acc: 0.416035 loss: 0.014163\n",
            "[006/030] 23.74 sec(s) Train Acc: 0.510643 Loss: 0.011135 | Val Acc: 0.414577 loss: 0.014375\n",
            "[007/030] 23.78 sec(s) Train Acc: 0.545915 Loss: 0.010314 | Val Acc: 0.444606 loss: 0.013146\n",
            "[008/030] 23.85 sec(s) Train Acc: 0.558281 Loss: 0.010166 | Val Acc: 0.513411 loss: 0.011386\n",
            "[009/030] 23.82 sec(s) Train Acc: 0.571559 Loss: 0.009783 | Val Acc: 0.449271 loss: 0.014605\n",
            "[010/030] 23.71 sec(s) Train Acc: 0.598824 Loss: 0.009126 | Val Acc: 0.470845 loss: 0.013053\n",
            "[011/030] 23.77 sec(s) Train Acc: 0.623252 Loss: 0.008505 | Val Acc: 0.554519 loss: 0.011070\n",
            "[012/030] 23.84 sec(s) Train Acc: 0.644435 Loss: 0.007985 | Val Acc: 0.552187 loss: 0.010936\n",
            "[013/030] 24.04 sec(s) Train Acc: 0.660045 Loss: 0.007614 | Val Acc: 0.586880 loss: 0.009858\n",
            "[014/030] 23.99 sec(s) Train Acc: 0.683762 Loss: 0.007197 | Val Acc: 0.589213 loss: 0.010139\n",
            "[015/030] 23.87 sec(s) Train Acc: 0.689844 Loss: 0.006914 | Val Acc: 0.388921 loss: 0.018421\n",
            "[016/030] 24.02 sec(s) Train Acc: 0.708798 Loss: 0.006739 | Val Acc: 0.463848 loss: 0.014955\n",
            "[017/030] 23.94 sec(s) Train Acc: 0.712447 Loss: 0.006536 | Val Acc: 0.551895 loss: 0.012343\n",
            "[018/030] 24.00 sec(s) Train Acc: 0.730387 Loss: 0.006074 | Val Acc: 0.557726 loss: 0.011546\n",
            "[019/030] 24.02 sec(s) Train Acc: 0.741739 Loss: 0.005796 | Val Acc: 0.618950 loss: 0.010109\n",
            "[020/030] 24.06 sec(s) Train Acc: 0.755828 Loss: 0.005633 | Val Acc: 0.613994 loss: 0.009898\n",
            "[021/030] 24.08 sec(s) Train Acc: 0.763937 Loss: 0.005327 | Val Acc: 0.614286 loss: 0.010343\n",
            "[022/030] 24.08 sec(s) Train Acc: 0.780559 Loss: 0.005053 | Val Acc: 0.527405 loss: 0.015699\n",
            "[023/030] 24.21 sec(s) Train Acc: 0.774883 Loss: 0.005142 | Val Acc: 0.560058 loss: 0.013064\n",
            "[024/030] 24.05 sec(s) Train Acc: 0.785323 Loss: 0.004758 | Val Acc: 0.665015 loss: 0.009183\n",
            "[025/030] 24.03 sec(s) Train Acc: 0.811676 Loss: 0.004355 | Val Acc: 0.592711 loss: 0.011855\n",
            "[026/030] 24.11 sec(s) Train Acc: 0.811170 Loss: 0.004397 | Val Acc: 0.606706 loss: 0.010731\n",
            "[027/030] 23.96 sec(s) Train Acc: 0.802250 Loss: 0.004486 | Val Acc: 0.591545 loss: 0.011888\n",
            "[028/030] 24.02 sec(s) Train Acc: 0.832049 Loss: 0.003777 | Val Acc: 0.658017 loss: 0.009485\n",
            "[029/030] 24.07 sec(s) Train Acc: 0.854652 Loss: 0.003272 | Val Acc: 0.584840 loss: 0.013119\n",
            "[030/030] 24.04 sec(s) Train Acc: 0.858605 Loss: 0.003202 | Val Acc: 0.666472 loss: 0.009999\n"
          ],
          "name": "stdout"
        }
      ]
    },
    {
      "cell_type": "markdown",
      "metadata": {
        "id": "2-ssSxXlsI_T"
      },
      "source": [
        "得到好的參數後，我們使用 training set 和 validation set 共同訓練（資料量變多，模型效果較好）"
      ]
    },
    {
      "cell_type": "code",
      "metadata": {
        "id": "RKoUxLun8lFG"
      },
      "source": [
        "train_val_x = np.concatenate((train_x, val_x), axis=0)\n",
        "train_val_y = np.concatenate((train_y, val_y), axis=0)\n",
        "train_val_set = ImgDataset(train_val_x, train_val_y, train_transform)\n",
        "train_val_loader = DataLoader(train_val_set, batch_size=batch_size, shuffle=True)"
      ],
      "execution_count": null,
      "outputs": []
    },
    {
      "cell_type": "code",
      "metadata": {
        "colab": {
          "base_uri": "https://localhost:8080/"
        },
        "id": "OoAS5TtRsfOo",
        "outputId": "5290f495-7877-4c84-b655-8f9989a036c1"
      },
      "source": [
        "model_best = Classifier().cuda()\n",
        "loss = nn.CrossEntropyLoss() # 因為是 classification task，所以 loss 使用 CrossEntropyLoss\n",
        "optimizer = torch.optim.Adam(model_best.parameters(), lr=0.001) # optimizer 使用 Adam\n",
        "num_epoch = 30\n",
        "\n",
        "for epoch in range(num_epoch):\n",
        "    epoch_start_time = time.time()\n",
        "    train_acc = 0.0\n",
        "    train_loss = 0.0\n",
        "\n",
        "    model_best.train()\n",
        "    for i, data in enumerate(train_val_loader):\n",
        "        optimizer.zero_grad()\n",
        "        train_pred = model_best(data[0].cuda())\n",
        "        batch_loss = loss(train_pred, data[1].cuda())\n",
        "        batch_loss.backward()\n",
        "        optimizer.step()\n",
        "\n",
        "        train_acc += np.sum(np.argmax(train_pred.cpu().data.numpy(), axis=1) == data[1].numpy())\n",
        "        train_loss += batch_loss.item()\n",
        "\n",
        "        #將結果 print 出來\n",
        "    print('[%03d/%03d] %2.2f sec(s) Train Acc: %3.6f Loss: %3.6f' % \\\n",
        "      (epoch + 1, num_epoch, time.time()-epoch_start_time, \\\n",
        "      train_acc/train_val_set.__len__(), train_loss/train_val_set.__len__()))"
      ],
      "execution_count": null,
      "outputs": [
        {
          "output_type": "stream",
          "text": [
            "[001/030] 28.10 sec(s) Train Acc: 0.274744 Loss: 0.016609\n",
            "[002/030] 28.25 sec(s) Train Acc: 0.380340 Loss: 0.013783\n",
            "[003/030] 28.39 sec(s) Train Acc: 0.445096 Loss: 0.012434\n",
            "[004/030] 28.52 sec(s) Train Acc: 0.488493 Loss: 0.011474\n",
            "[005/030] 28.57 sec(s) Train Acc: 0.527527 Loss: 0.010575\n",
            "[006/030] 28.59 sec(s) Train Acc: 0.562726 Loss: 0.009804\n",
            "[007/030] 28.67 sec(s) Train Acc: 0.594239 Loss: 0.009123\n",
            "[008/030] 28.65 sec(s) Train Acc: 0.626504 Loss: 0.008492\n",
            "[009/030] 28.84 sec(s) Train Acc: 0.641697 Loss: 0.008136\n",
            "[010/030] 28.80 sec(s) Train Acc: 0.675842 Loss: 0.007353\n",
            "[011/030] 28.79 sec(s) Train Acc: 0.692539 Loss: 0.006921\n",
            "[012/030] 28.75 sec(s) Train Acc: 0.714275 Loss: 0.006520\n",
            "[013/030] 28.76 sec(s) Train Acc: 0.730520 Loss: 0.006067\n",
            "[014/030] 28.71 sec(s) Train Acc: 0.740223 Loss: 0.005840\n",
            "[015/030] 28.80 sec(s) Train Acc: 0.752933 Loss: 0.005544\n",
            "[016/030] 28.86 sec(s) Train Acc: 0.774895 Loss: 0.005110\n",
            "[017/030] 29.01 sec(s) Train Acc: 0.782265 Loss: 0.004863\n",
            "[018/030] 28.97 sec(s) Train Acc: 0.798210 Loss: 0.004447\n",
            "[019/030] 28.84 sec(s) Train Acc: 0.814455 Loss: 0.004187\n",
            "[020/030] 28.93 sec(s) Train Acc: 0.820698 Loss: 0.004006\n",
            "[021/030] 28.88 sec(s) Train Acc: 0.823180 Loss: 0.003948\n",
            "[022/030] 28.83 sec(s) Train Acc: 0.837470 Loss: 0.003562\n",
            "[023/030] 28.88 sec(s) Train Acc: 0.848752 Loss: 0.003360\n",
            "[024/030] 28.74 sec(s) Train Acc: 0.858980 Loss: 0.003059\n",
            "[025/030] 28.89 sec(s) Train Acc: 0.873496 Loss: 0.002792\n",
            "[026/030] 28.84 sec(s) Train Acc: 0.890569 Loss: 0.002461\n",
            "[027/030] 28.81 sec(s) Train Acc: 0.892750 Loss: 0.002385\n",
            "[028/030] 28.98 sec(s) Train Acc: 0.907717 Loss: 0.002110\n",
            "[029/030] 28.81 sec(s) Train Acc: 0.900346 Loss: 0.002213\n",
            "[030/030] 28.79 sec(s) Train Acc: 0.915539 Loss: 0.001902\n"
          ],
          "name": "stdout"
        }
      ]
    },
    {
      "cell_type": "markdown",
      "metadata": {
        "id": "2o1oCMXy61_3"
      },
      "source": [
        "# Testing\n",
        "利用剛剛 train 好的 model 進行 prediction"
      ]
    },
    {
      "cell_type": "code",
      "metadata": {
        "id": "iAR6sn8U661G"
      },
      "source": [
        "test_set = ImgDataset(test_x, transform=test_transform)\n",
        "test_loader = DataLoader(test_set, batch_size=batch_size, shuffle=False)"
      ],
      "execution_count": null,
      "outputs": []
    },
    {
      "cell_type": "code",
      "metadata": {
        "colab": {
          "background_save": true
        },
        "id": "4HznI9_-ocrq"
      },
      "source": [
        "model_best.eval()\n",
        "prediction = []\n",
        "with torch.no_grad():\n",
        "    for i, data in enumerate(test_loader):\n",
        "        test_pred = model_best(data.cuda())\n",
        "        test_label = np.argmax(test_pred.cpu().data.numpy(), axis=1)\n",
        "        for y in test_label:\n",
        "            prediction.append(y)"
      ],
      "execution_count": null,
      "outputs": []
    },
    {
      "cell_type": "code",
      "metadata": {
        "id": "3t2q2Th85ZUE"
      },
      "source": [
        "#將結果寫入 csv 檔\n",
        "with open(\"predict.csv\", 'w') as f:\n",
        "    f.write('Id,Category\\n')\n",
        "    for i, y in  enumerate(prediction):\n",
        "        f.write('{},{}\\n'.format(i, y))"
      ],
      "execution_count": null,
      "outputs": []
    }
  ]
}